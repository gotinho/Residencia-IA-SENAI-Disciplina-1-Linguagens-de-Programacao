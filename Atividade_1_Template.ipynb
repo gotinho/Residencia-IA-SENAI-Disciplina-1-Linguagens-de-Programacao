{
 "cells": [
  {
   "cell_type": "markdown",
   "metadata": {
    "id": "cXC4WikDkE8r"
   },
   "source": [
    "### **Atividade com Nota**\n",
    "Link de envio:\n",
    "https://forms.gle/rEGR8vXj365VcV628"
   ]
  },
  {
   "cell_type": "markdown",
   "metadata": {
    "id": "e9QTLDi29NKd"
   },
   "source": [
    "#### Exercício 1: Análise de Dados de Vendas\n",
    "\n",
    "- Você recebeu os dados de vendas de uma loja durante um mês;\n",
    "- Eles estão organizados em uma lista de tuplas, onde cada tupla contém o **nome do produto**, a **quantidade vendida** e o **valor total da venda**. Você deve realizar uma análise utilizando listas, compreensão de listas, `itertools`, dicionários e conjuntos.\n",
    "\n",
    "#### Dados fornecidos:\n",
    "```python\n",
    "vendas = [\n",
    "    ('Camiseta', 10, 200),\n",
    "    ('Calça', 5, 250),\n",
    "    ('Jaqueta', 2, 300),\n",
    "    ('Camiseta', 7, 140),\n",
    "    ('Calça', 3, 150),\n",
    "    ('Boné', 4, 80),\n",
    "    ('Jaqueta', 1, 150),\n",
    "    ('Camiseta', 8, 160),\n",
    "    ('Boné', 3, 60),\n",
    "]\n",
    "```\n",
    "\n",
    "#### Tarefas:\n",
    "\n",
    "1. **Listas e Compreensão de Listas**:\n",
    "   - Crie uma nova lista contendo apenas os produtos únicos vendidos (sem repetições). Use uma compreensão de lista e um conjunto (`set`) para garantir que não haja duplicatas.\n",
    "\n",
    "2. **itertools**:\n",
    "   - Use `itertools` para agrupar as vendas por produto e somar a quantidade total vendida para cada produto.\n",
    "\n",
    "3. **Dicionários**:\n",
    "   - Crie um dicionário onde as chaves são os produtos e os valores são listas que contêm a quantidade total vendida e o valor total de vendas de cada produto.\n",
    "\n",
    "4. **Conjuntos**:\n",
    "   - Crie dois conjuntos: um contendo os produtos vendidos com mais de 20 unidades e outro contendo os produtos que geraram um valor total de vendas superior a 500.\n",
    "\n"
   ]
  },
  {
   "cell_type": "markdown",
   "metadata": {
    "id": "IyWvWpmJ9wEJ"
   },
   "source": [
    "#### Exemplo de Saída Esperada:"
   ]
  },
  {
   "cell_type": "code",
   "execution_count": null,
   "metadata": {
    "id": "hJSSRdZ19rcl"
   },
   "outputs": [],
   "source": [
    "# Produtos únicos vendidos\n",
    "['Camiseta', 'Calça', 'Jaqueta', 'Boné']\n",
    "\n",
    "# Quantidade total vendida por produto\n",
    "{'Camiseta': 25, 'Calça': 8, 'Jaqueta': 3, 'Boné': 7}\n",
    "\n",
    "# Dicionário com quantidade e valor total de vendas por produto\n",
    "{'Camiseta': [25, 500], 'Calça': [8, 400], 'Jaqueta': [3, 450], 'Boné': [7, 140]}\n",
    "\n",
    "# Conjuntos de produtos com mais de 20 unidades vendidas e mais de 500 em vendas totais\n",
    "Produtos com mais de 20 unidades vendidas: {'Camiseta'}\n",
    "Produtos com mais de 500 em vendas totais: {'Camiseta', 'Jaqueta'}"
   ]
  },
  {
   "cell_type": "code",
   "execution_count": 50,
   "metadata": {},
   "outputs": [
    {
     "name": "stdout",
     "output_type": "stream",
     "text": [
      "{'Camiseta', 'Boné', 'Calça', 'Jaqueta'}\n",
      "{'Boné': 7, 'Calça': 8, 'Camiseta': 25, 'Jaqueta': 3}\n",
      "{'Boné': [7, 140], 'Calça': [8, 400], 'Camiseta': [25, 500], 'Jaqueta': [3, 450]}\n",
      "Produtos com mais de 20 unidades vendidas: {'Camiseta'}\n",
      "Produtos com mais de 400 em vendas totais: {'Camiseta', 'Jaqueta'}\n"
     ]
    }
   ],
   "source": [
    "import itertools\n",
    "\n",
    "vendas = [\n",
    "    ('Camiseta', 10, 200),\n",
    "    ('Calça', 5, 250),\n",
    "    ('Jaqueta', 2, 300),\n",
    "    ('Camiseta', 7, 140),\n",
    "    ('Calça', 3, 150),\n",
    "    ('Boné', 4, 80),\n",
    "    ('Jaqueta', 1, 150),\n",
    "    ('Camiseta', 8, 160),\n",
    "    ('Boné', 3, 60),\n",
    "]\n",
    "\n",
    "# Tarefa 1\n",
    "produtos_unicos = {produto for produto,_,_ in vendas}\n",
    "\n",
    "# Saída Tarefa 1\n",
    "print(produtos_unicos)\n",
    "\n",
    "\n",
    "# Tarefa 2\n",
    "quantidade_total = {}\n",
    "for produto,item in itertools.groupby(sorted(vendas),lambda x: x[0]):\n",
    "    quantidade_total[produto] = sum([v[1] for v in item])\n",
    "\n",
    "# Saída Tarefa 2\n",
    "print(quantidade_total)\n",
    "\n",
    "\n",
    "# Tarefa 3\n",
    "totais = {}\n",
    "for produto,item in itertools.groupby(sorted(vendas),lambda x: x[0]):\n",
    "    valores = [(v[1], v[2]) for v in item]\n",
    "    soma_quantidade = sum([i[0] for i in valores])\n",
    "    soma_valor = sum([i[1] for i in valores])\n",
    "    totais[produto] = [soma_quantidade, soma_valor]\n",
    "\n",
    "# Saída Tarefa 3\n",
    "print(totais)\n",
    "\n",
    "\n",
    "# Tarefa 4\n",
    "p_mais_20 = {produto for produto, v, in totais.items() if v[0] > 20}\n",
    "p_mais_400 = {produto for produto, v, in totais.items() if v[1] > 400}\n",
    "\n",
    "# Saída Tarefa 4\n",
    "print('Produtos com mais de 20 unidades vendidas:',p_mais_20)\n",
    "print('Produtos com mais de 400 em vendas totais:',p_mais_400)"
   ]
  },
  {
   "cell_type": "markdown",
   "metadata": {
    "id": "SuHsBb9hjHzP"
   },
   "source": []
  },
  {
   "cell_type": "markdown",
   "metadata": {
    "id": "61JcTLEujIVM"
   },
   "source": [
    "### Exercício 2: Análise de Dados de Alunos\n",
    "\n",
    "Você tem uma lista com registros de alunos, onde cada registro contém o nome do aluno, a disciplina e a nota final que ele obteve. Você precisa processar esses dados para extrair informações específicas e responder a algumas perguntas sobre o desempenho dos alunos.\n",
    "\n"
   ]
  },
  {
   "cell_type": "code",
   "execution_count": 21,
   "metadata": {
    "id": "zXcxd76pkGJV"
   },
   "outputs": [],
   "source": [
    "#### Dados fornecidos:\n",
    "alunos = [\n",
    "    ('Alice', 'Matemática', 85),\n",
    "    ('Bob', 'História', 78),\n",
    "    ('Alice', 'História', 95),\n",
    "    ('Bob', 'Matemática', 82),\n",
    "    ('Carlos', 'Matemática', 70),\n",
    "    ('Carlos', 'História', 65),\n",
    "    ('Alice', 'Física', 90),\n",
    "    ('Bob', 'Física', 85),\n",
    "    ('Carlos', 'Física', 75),\n",
    "    ('Diana', 'Matemática', 88),\n",
    "    ('Diana', 'História', 92),\n",
    "    ('Diana', 'Física', 95),\n",
    "]"
   ]
  },
  {
   "cell_type": "markdown",
   "metadata": {
    "id": "NH1nPS5hkGkT"
   },
   "source": [
    "#### Tarefas:\n",
    "\n",
    "1. **Listas e Compreensão de Listas**:\n",
    "   - Crie uma lista de todas as disciplinas disponíveis (sem duplicação), usando uma compreensão de lista e um conjunto para garantir que não haja repetições.\n",
    "\n",
    "2. **Agrupamento de Notas por Aluno**:\n",
    "   - Crie um dicionário onde as chaves são os nomes dos alunos e os valores são listas com as notas. Em seguida, calcule a média das notas para cada aluno.\n",
    "\n",
    "3. **Dicionários**:\n",
    "   - Crie um dicionário que armazene as notas de cada aluno para cada disciplina. As chaves devem ser os nomes dos alunos, e os valores devem ser dicionários onde as chaves são as disciplinas e os valores são as notas.\n",
    "\n",
    "4. **Conjuntos**:\n",
    "   - Crie dois conjuntos:\n",
    "     - Um contendo os nomes dos alunos que têm uma média superior a 80.\n",
    "     - Outro contendo os nomes dos alunos que obtiveram nota superior a 90 em pelo menos uma disciplina.\n",
    "\n"
   ]
  },
  {
   "cell_type": "code",
   "execution_count": null,
   "metadata": {
    "id": "0QJJNHmpji77"
   },
   "outputs": [
    {
     "data": {
      "text/plain": [
       "{'Alice', 'Diana'}"
      ]
     },
     "execution_count": 2,
     "metadata": {},
     "output_type": "execute_result"
    }
   ],
   "source": [
    "#### Exemplo de Saída Esperada:\n",
    "# Disciplinas disponíveis:\n",
    "['Matemática', 'História', 'Física']\n",
    "# Média de notas por aluno:\n",
    "{'Alice': 90.0, 'Bob': 81.67, 'Carlos': 70.0, 'Diana': 91.67}\n",
    "# Notas de cada aluno por disciplina:\n",
    "{'Alice': {'Matemática': 85, 'História': 95, 'Física': 90}, 'Bob': {'História': 78, 'Matemática': 82, 'Física': 85}, 'Carlos': {'Matemática': 70, 'História': 65, 'Física': 75}, 'Diana': {'Matemática': 88, 'História': 92, 'Física': 95}}\n",
    "# Alunos com média superior a 80:\n",
    "{'Alice', 'Bob', 'Diana'}\n",
    "# Alunos com nota superior a 90 em pelo menos uma disciplina:\n",
    "{'Alice', 'Diana'}"
   ]
  },
  {
   "cell_type": "code",
   "execution_count": 34,
   "metadata": {},
   "outputs": [
    {
     "name": "stdout",
     "output_type": "stream",
     "text": [
      "# Disciplinas disponíveis:\n",
      "['História', 'Matemática', 'Física']\n",
      "# Média de notas por aluno:\n",
      "{'Alice': 90.0, 'Bob': 81.66666666666667, 'Carlos': 70.0, 'Diana': 91.66666666666667}\n",
      "# Notas de cada aluno por disciplina:\n",
      "{'Alice': {'Matemática': 85, 'História': 95, 'Física': 90}, 'Bob': {'História': 78, 'Matemática': 82, 'Física': 85}, 'Carlos': {'Matemática': 70, 'História': 65, 'Física': 75}, 'Diana': {'Matemática': 88, 'História': 92, 'Física': 95}}\n",
      "# Alunos com média superior a 80:\n",
      "{'Alice', 'Bob', 'Diana'}\n",
      "# Alunos com nota superior a 90 em pelo menos uma disciplina:\n",
      "{'Alice', 'Diana'}\n"
     ]
    }
   ],
   "source": [
    "diciplinas = list({diciplina for _,diciplina,_ in alunos})\n",
    "\n",
    "print('# Disciplinas disponíveis:')\n",
    "print(diciplinas)\n",
    "\n",
    "notas_alunos = {}\n",
    "for aluno,_,nota in alunos:\n",
    "    if(aluno not in notas_alunos):\n",
    "        notas_alunos[aluno] = []\n",
    "    notas_alunos[aluno].append(nota)\n",
    "medias = {aluno: sum(notas)/len(notas) for aluno,notas in notas_alunos.items()}\n",
    "\n",
    "print('# Média de notas por aluno:')\n",
    "print(medias)\n",
    "\n",
    "\n",
    "notas_diciplina = {}\n",
    "for aluno,disciplina,nota in alunos:\n",
    "    if(aluno not in notas_diciplina):\n",
    "        notas_diciplina[aluno] = dict()\n",
    "    notas_diciplina[aluno][disciplina] = nota\n",
    "    \n",
    "print('# Notas de cada aluno por disciplina:')\n",
    "print(notas_diciplina)\n",
    "\n",
    "media_superior_80 = {aluno for aluno,media in medias.items() if media > 80}\n",
    "print('# Alunos com média superior a 80:')\n",
    "print(media_superior_80)\n",
    "\n",
    "nota_superior_90 = {aluno for aluno,notas in notas_alunos.items() if max(notas) > 90}\n",
    "print('# Alunos com nota superior a 90 em pelo menos uma disciplina:')\n",
    "print(nota_superior_90)\n"
   ]
  }
 ],
 "metadata": {
  "colab": {
   "provenance": []
  },
  "kernelspec": {
   "display_name": "disciplina1",
   "language": "python",
   "name": "python3"
  },
  "language_info": {
   "codemirror_mode": {
    "name": "ipython",
    "version": 3
   },
   "file_extension": ".py",
   "mimetype": "text/x-python",
   "name": "python",
   "nbconvert_exporter": "python",
   "pygments_lexer": "ipython3",
   "version": "3.12.7"
  }
 },
 "nbformat": 4,
 "nbformat_minor": 0
}
