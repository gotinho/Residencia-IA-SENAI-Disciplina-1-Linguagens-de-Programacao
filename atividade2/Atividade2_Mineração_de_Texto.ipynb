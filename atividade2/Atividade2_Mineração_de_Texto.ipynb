{
 "cells": [
  {
   "cell_type": "markdown",
   "metadata": {
    "id": "_UB4Al1_bo7S"
   },
   "source": [
    "Considere o artigo:\n",
    "```python\n",
    "Bloice, M.D., Holzinger, A. (2016). A Tutorial on Machine Learning and Data Science Tools with Python.\n",
    "```\n",
    "In: Holzinger, A. (eds) Machine Learning for Health Informatics.<br> Lecture Notes in Computer Science(), vol 9605. Springer, Cham. <br>https://doi.org/10.1007/978-3-319-50478-0_22\n",
    "\n"
   ]
  },
  {
   "cell_type": "markdown",
   "metadata": {
    "id": "QFMnFkBTdFWP"
   },
   "source": [
    "Utilizando as bibliotecas `PyMuPDF` e `Regex`, faça a extração do texto e apresente todas as **URLs** presentes no artigo."
   ]
  },
  {
   "cell_type": "markdown",
   "metadata": {
    "id": "imQqn0MR1yMy"
   },
   "source": [
    "Acesso ao Formulário para envio do código:\n",
    "* https://forms.gle/D54GFxjB8s6ZqkPo9"
   ]
  },
  {
   "cell_type": "code",
   "execution_count": 1,
   "metadata": {},
   "outputs": [
    {
     "name": "stdout",
     "output_type": "stream",
     "text": [
      "Collecting PyMuPDF\n",
      "  Downloading PyMuPDF-1.24.14-cp39-abi3-manylinux2014_x86_64.manylinux_2_17_x86_64.whl.metadata (3.4 kB)\n",
      "Downloading PyMuPDF-1.24.14-cp39-abi3-manylinux2014_x86_64.manylinux_2_17_x86_64.whl (19.8 MB)\n",
      "\u001b[2K   \u001b[90m━━━━━━━━━━━━━━━━━━━━━━━━━━━━━━━━━━━━━━━━\u001b[0m \u001b[32m19.8/19.8 MB\u001b[0m \u001b[31m5.7 MB/s\u001b[0m eta \u001b[36m0:00:00\u001b[0m00:01\u001b[0m00:01\u001b[0m\n",
      "\u001b[?25hInstalling collected packages: PyMuPDF\n",
      "Successfully installed PyMuPDF-1.24.14\n",
      "Note: you may need to restart the kernel to use updated packages.\n"
     ]
    }
   ],
   "source": [
    "%pip install PyMuPDF"
   ]
  },
  {
   "cell_type": "code",
   "execution_count": 89,
   "metadata": {},
   "outputs": [],
   "source": [
    "import pymupdf\n",
    "doc = pymupdf.open(\"artigoAtividade2.pdf\")\n",
    "texto = ' '.join([page.get_text() for page in doc])\n",
    "texto = texto.replace('\\n','')"
   ]
  },
  {
   "cell_type": "code",
   "execution_count": 93,
   "metadata": {},
   "outputs": [
    {
     "name": "stdout",
     "output_type": "stream",
     "text": [
      "['https://github.com/mdbloice/MLDSIt', 'http://topepo.github.io/caret/index.html', 'https://www.continuum.io/downloadsand', 'https://www.continuum.io/downloads.Keeping', 'http://localhost:8888', 'http://mathesaurus.sourceforge.net/matlab-numpy.html', 'http://www.scipy-lectures.org', 'http://pandas.pydata.org/pandas-docs/stable/missing', 'http://www.scipy-lectures.org', 'http://pandas.pydata.org/pandas-docs/stable/visualization.html', 'http://scikit-learn.org/stable/documentation.html', 'https://twitter.com/fchollet/status/765212287531495424', 'https://developer.nvidia.com/digits', 'http://torch.ch/docs/getting-started.html', 'https://www.tensorﬂow.org/get', 'http://www.cancer.gov', 'https://visualsonline.cancer.gov/details.cfm?imageid=10583.Much', 'http://augmentor.readthedocs.io', 'http://augmentorjl.readthedocs.io.Although', 'http://cacm.acm.org/blogs/blog-cacm/176450-python-is-now-the-most-popular-introductory-teaching-language-at-top-u-s-universities9']\n",
      "20\n"
     ]
    }
   ],
   "source": [
    "import re\n",
    "\n",
    "urls = re.findall(r'http[s]?\\:\\/\\/[^\\s!)]+[\\w]',texto)\n",
    "print(urls)\n",
    "print(len(urls))"
   ]
  }
 ],
 "metadata": {
  "colab": {
   "provenance": []
  },
  "kernelspec": {
   "display_name": "disciplina_1",
   "language": "python",
   "name": "python3"
  },
  "language_info": {
   "codemirror_mode": {
    "name": "ipython",
    "version": 3
   },
   "file_extension": ".py",
   "mimetype": "text/x-python",
   "name": "python",
   "nbconvert_exporter": "python",
   "pygments_lexer": "ipython3",
   "version": "3.12.7"
  }
 },
 "nbformat": 4,
 "nbformat_minor": 0
}
